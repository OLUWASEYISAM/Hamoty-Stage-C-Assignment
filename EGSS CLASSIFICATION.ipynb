{
 "cells": [
  {
   "cell_type": "code",
   "execution_count": 58,
   "id": "de6e29c1",
   "metadata": {},
   "outputs": [],
   "source": [
    "#importing needed libraries\n",
    "import pandas as pd\n",
    "import numpy as np\n",
    "import seaborn as sns\n",
    "import matplotlib.pyplot as plt\n",
    "%matplotlib inline\n",
    "\n",
    "#model algorithms from scikit learn\n",
    "from sklearn.linear_model import LogisticRegression\n",
    "from sklearn.neighbors import KNeighborsClassifier\n",
    "from sklearn.ensemble import RandomForestClassifier\n",
    "from sklearn.ensemble import ExtraTreesClassifier\n",
    "import xgboost as xgb\n",
    "import lightgbm as lgb\n",
    "\n",
    "#model evaluations\n",
    "from sklearn.model_selection import train_test_split, cross_val_score\n",
    "from sklearn.model_selection import RandomizedSearchCV, GridSearchCV\n",
    "from sklearn.metrics import confusion_matrix, classification_report\n",
    "from sklearn.metrics import precision_score, recall_score, f1_score"
   ]
  },
  {
   "cell_type": "code",
   "execution_count": 2,
   "id": "b6655531",
   "metadata": {},
   "outputs": [
    {
     "data": {
      "text/html": [
       "<div>\n",
       "<style scoped>\n",
       "    .dataframe tbody tr th:only-of-type {\n",
       "        vertical-align: middle;\n",
       "    }\n",
       "\n",
       "    .dataframe tbody tr th {\n",
       "        vertical-align: top;\n",
       "    }\n",
       "\n",
       "    .dataframe thead th {\n",
       "        text-align: right;\n",
       "    }\n",
       "</style>\n",
       "<table border=\"1\" class=\"dataframe\">\n",
       "  <thead>\n",
       "    <tr style=\"text-align: right;\">\n",
       "      <th></th>\n",
       "      <th>tau1</th>\n",
       "      <th>tau2</th>\n",
       "      <th>tau3</th>\n",
       "      <th>tau4</th>\n",
       "      <th>p1</th>\n",
       "      <th>p2</th>\n",
       "      <th>p3</th>\n",
       "      <th>p4</th>\n",
       "      <th>g1</th>\n",
       "      <th>g2</th>\n",
       "      <th>g3</th>\n",
       "      <th>g4</th>\n",
       "      <th>stab</th>\n",
       "      <th>stabf</th>\n",
       "    </tr>\n",
       "  </thead>\n",
       "  <tbody>\n",
       "    <tr>\n",
       "      <th>0</th>\n",
       "      <td>2.959060</td>\n",
       "      <td>3.079885</td>\n",
       "      <td>8.381025</td>\n",
       "      <td>9.780754</td>\n",
       "      <td>3.763085</td>\n",
       "      <td>-0.782604</td>\n",
       "      <td>-1.257395</td>\n",
       "      <td>-1.723086</td>\n",
       "      <td>0.650456</td>\n",
       "      <td>0.859578</td>\n",
       "      <td>0.887445</td>\n",
       "      <td>0.958034</td>\n",
       "      <td>0.055347</td>\n",
       "      <td>unstable</td>\n",
       "    </tr>\n",
       "    <tr>\n",
       "      <th>1</th>\n",
       "      <td>9.304097</td>\n",
       "      <td>4.902524</td>\n",
       "      <td>3.047541</td>\n",
       "      <td>1.369357</td>\n",
       "      <td>5.067812</td>\n",
       "      <td>-1.940058</td>\n",
       "      <td>-1.872742</td>\n",
       "      <td>-1.255012</td>\n",
       "      <td>0.413441</td>\n",
       "      <td>0.862414</td>\n",
       "      <td>0.562139</td>\n",
       "      <td>0.781760</td>\n",
       "      <td>-0.005957</td>\n",
       "      <td>stable</td>\n",
       "    </tr>\n",
       "    <tr>\n",
       "      <th>2</th>\n",
       "      <td>8.971707</td>\n",
       "      <td>8.848428</td>\n",
       "      <td>3.046479</td>\n",
       "      <td>1.214518</td>\n",
       "      <td>3.405158</td>\n",
       "      <td>-1.207456</td>\n",
       "      <td>-1.277210</td>\n",
       "      <td>-0.920492</td>\n",
       "      <td>0.163041</td>\n",
       "      <td>0.766689</td>\n",
       "      <td>0.839444</td>\n",
       "      <td>0.109853</td>\n",
       "      <td>0.003471</td>\n",
       "      <td>unstable</td>\n",
       "    </tr>\n",
       "    <tr>\n",
       "      <th>3</th>\n",
       "      <td>0.716415</td>\n",
       "      <td>7.669600</td>\n",
       "      <td>4.486641</td>\n",
       "      <td>2.340563</td>\n",
       "      <td>3.963791</td>\n",
       "      <td>-1.027473</td>\n",
       "      <td>-1.938944</td>\n",
       "      <td>-0.997374</td>\n",
       "      <td>0.446209</td>\n",
       "      <td>0.976744</td>\n",
       "      <td>0.929381</td>\n",
       "      <td>0.362718</td>\n",
       "      <td>0.028871</td>\n",
       "      <td>unstable</td>\n",
       "    </tr>\n",
       "    <tr>\n",
       "      <th>4</th>\n",
       "      <td>3.134112</td>\n",
       "      <td>7.608772</td>\n",
       "      <td>4.943759</td>\n",
       "      <td>9.857573</td>\n",
       "      <td>3.525811</td>\n",
       "      <td>-1.125531</td>\n",
       "      <td>-1.845975</td>\n",
       "      <td>-0.554305</td>\n",
       "      <td>0.797110</td>\n",
       "      <td>0.455450</td>\n",
       "      <td>0.656947</td>\n",
       "      <td>0.820923</td>\n",
       "      <td>0.049860</td>\n",
       "      <td>unstable</td>\n",
       "    </tr>\n",
       "    <tr>\n",
       "      <th>...</th>\n",
       "      <td>...</td>\n",
       "      <td>...</td>\n",
       "      <td>...</td>\n",
       "      <td>...</td>\n",
       "      <td>...</td>\n",
       "      <td>...</td>\n",
       "      <td>...</td>\n",
       "      <td>...</td>\n",
       "      <td>...</td>\n",
       "      <td>...</td>\n",
       "      <td>...</td>\n",
       "      <td>...</td>\n",
       "      <td>...</td>\n",
       "      <td>...</td>\n",
       "    </tr>\n",
       "    <tr>\n",
       "      <th>9995</th>\n",
       "      <td>2.930406</td>\n",
       "      <td>9.487627</td>\n",
       "      <td>2.376523</td>\n",
       "      <td>6.187797</td>\n",
       "      <td>3.343416</td>\n",
       "      <td>-0.658054</td>\n",
       "      <td>-1.449106</td>\n",
       "      <td>-1.236256</td>\n",
       "      <td>0.601709</td>\n",
       "      <td>0.779642</td>\n",
       "      <td>0.813512</td>\n",
       "      <td>0.608385</td>\n",
       "      <td>0.023892</td>\n",
       "      <td>unstable</td>\n",
       "    </tr>\n",
       "    <tr>\n",
       "      <th>9996</th>\n",
       "      <td>3.392299</td>\n",
       "      <td>1.274827</td>\n",
       "      <td>2.954947</td>\n",
       "      <td>6.894759</td>\n",
       "      <td>4.349512</td>\n",
       "      <td>-1.663661</td>\n",
       "      <td>-0.952437</td>\n",
       "      <td>-1.733414</td>\n",
       "      <td>0.502079</td>\n",
       "      <td>0.567242</td>\n",
       "      <td>0.285880</td>\n",
       "      <td>0.366120</td>\n",
       "      <td>-0.025803</td>\n",
       "      <td>stable</td>\n",
       "    </tr>\n",
       "    <tr>\n",
       "      <th>9997</th>\n",
       "      <td>2.364034</td>\n",
       "      <td>2.842030</td>\n",
       "      <td>8.776391</td>\n",
       "      <td>1.008906</td>\n",
       "      <td>4.299976</td>\n",
       "      <td>-1.380719</td>\n",
       "      <td>-0.943884</td>\n",
       "      <td>-1.975373</td>\n",
       "      <td>0.487838</td>\n",
       "      <td>0.986505</td>\n",
       "      <td>0.149286</td>\n",
       "      <td>0.145984</td>\n",
       "      <td>-0.031810</td>\n",
       "      <td>stable</td>\n",
       "    </tr>\n",
       "    <tr>\n",
       "      <th>9998</th>\n",
       "      <td>9.631511</td>\n",
       "      <td>3.994398</td>\n",
       "      <td>2.757071</td>\n",
       "      <td>7.821347</td>\n",
       "      <td>2.514755</td>\n",
       "      <td>-0.966330</td>\n",
       "      <td>-0.649915</td>\n",
       "      <td>-0.898510</td>\n",
       "      <td>0.365246</td>\n",
       "      <td>0.587558</td>\n",
       "      <td>0.889118</td>\n",
       "      <td>0.818391</td>\n",
       "      <td>0.037789</td>\n",
       "      <td>unstable</td>\n",
       "    </tr>\n",
       "    <tr>\n",
       "      <th>9999</th>\n",
       "      <td>6.530527</td>\n",
       "      <td>6.781790</td>\n",
       "      <td>4.349695</td>\n",
       "      <td>8.673138</td>\n",
       "      <td>3.492807</td>\n",
       "      <td>-1.390285</td>\n",
       "      <td>-1.532193</td>\n",
       "      <td>-0.570329</td>\n",
       "      <td>0.073056</td>\n",
       "      <td>0.505441</td>\n",
       "      <td>0.378761</td>\n",
       "      <td>0.942631</td>\n",
       "      <td>0.045263</td>\n",
       "      <td>unstable</td>\n",
       "    </tr>\n",
       "  </tbody>\n",
       "</table>\n",
       "<p>10000 rows × 14 columns</p>\n",
       "</div>"
      ],
      "text/plain": [
       "          tau1      tau2      tau3      tau4        p1        p2        p3  \\\n",
       "0     2.959060  3.079885  8.381025  9.780754  3.763085 -0.782604 -1.257395   \n",
       "1     9.304097  4.902524  3.047541  1.369357  5.067812 -1.940058 -1.872742   \n",
       "2     8.971707  8.848428  3.046479  1.214518  3.405158 -1.207456 -1.277210   \n",
       "3     0.716415  7.669600  4.486641  2.340563  3.963791 -1.027473 -1.938944   \n",
       "4     3.134112  7.608772  4.943759  9.857573  3.525811 -1.125531 -1.845975   \n",
       "...        ...       ...       ...       ...       ...       ...       ...   \n",
       "9995  2.930406  9.487627  2.376523  6.187797  3.343416 -0.658054 -1.449106   \n",
       "9996  3.392299  1.274827  2.954947  6.894759  4.349512 -1.663661 -0.952437   \n",
       "9997  2.364034  2.842030  8.776391  1.008906  4.299976 -1.380719 -0.943884   \n",
       "9998  9.631511  3.994398  2.757071  7.821347  2.514755 -0.966330 -0.649915   \n",
       "9999  6.530527  6.781790  4.349695  8.673138  3.492807 -1.390285 -1.532193   \n",
       "\n",
       "            p4        g1        g2        g3        g4      stab     stabf  \n",
       "0    -1.723086  0.650456  0.859578  0.887445  0.958034  0.055347  unstable  \n",
       "1    -1.255012  0.413441  0.862414  0.562139  0.781760 -0.005957    stable  \n",
       "2    -0.920492  0.163041  0.766689  0.839444  0.109853  0.003471  unstable  \n",
       "3    -0.997374  0.446209  0.976744  0.929381  0.362718  0.028871  unstable  \n",
       "4    -0.554305  0.797110  0.455450  0.656947  0.820923  0.049860  unstable  \n",
       "...        ...       ...       ...       ...       ...       ...       ...  \n",
       "9995 -1.236256  0.601709  0.779642  0.813512  0.608385  0.023892  unstable  \n",
       "9996 -1.733414  0.502079  0.567242  0.285880  0.366120 -0.025803    stable  \n",
       "9997 -1.975373  0.487838  0.986505  0.149286  0.145984 -0.031810    stable  \n",
       "9998 -0.898510  0.365246  0.587558  0.889118  0.818391  0.037789  unstable  \n",
       "9999 -0.570329  0.073056  0.505441  0.378761  0.942631  0.045263  unstable  \n",
       "\n",
       "[10000 rows x 14 columns]"
      ]
     },
     "execution_count": 2,
     "metadata": {},
     "output_type": "execute_result"
    }
   ],
   "source": [
    "#loading dataset\n",
    "df = pd.read_csv(r'C:\\Users\\user\\Documents\\HAMOYE DATA SCIENCE\\STAGE C (CLASSIFICATIONS)\\Assignment\\Data_for_UCI_named.csv')\n",
    "df"
   ]
  },
  {
   "cell_type": "markdown",
   "id": "300588ba",
   "metadata": {},
   "source": [
    "Data has 1000 rows and 14 Cloumns i.e 13 independent features and one target variable"
   ]
  },
  {
   "cell_type": "code",
   "execution_count": 11,
   "id": "b4de6d95",
   "metadata": {},
   "outputs": [
    {
     "data": {
      "text/plain": [
       "tau1     0\n",
       "tau2     0\n",
       "tau3     0\n",
       "tau4     0\n",
       "p1       0\n",
       "p2       0\n",
       "p3       0\n",
       "p4       0\n",
       "g1       0\n",
       "g2       0\n",
       "g3       0\n",
       "g4       0\n",
       "stab     0\n",
       "stabf    0\n",
       "dtype: int64"
      ]
     },
     "execution_count": 11,
     "metadata": {},
     "output_type": "execute_result"
    }
   ],
   "source": [
    "#Checking for missing data\n",
    "df.isnull().sum()"
   ]
  },
  {
   "cell_type": "markdown",
   "id": "34e1544c",
   "metadata": {},
   "source": [
    "The data has no missing data."
   ]
  },
  {
   "cell_type": "code",
   "execution_count": 5,
   "id": "8923efa8",
   "metadata": {
    "scrolled": false
   },
   "outputs": [
    {
     "name": "stdout",
     "output_type": "stream",
     "text": [
      "<class 'pandas.core.frame.DataFrame'>\n",
      "RangeIndex: 10000 entries, 0 to 9999\n",
      "Data columns (total 14 columns):\n",
      " #   Column  Non-Null Count  Dtype  \n",
      "---  ------  --------------  -----  \n",
      " 0   tau1    10000 non-null  float64\n",
      " 1   tau2    10000 non-null  float64\n",
      " 2   tau3    10000 non-null  float64\n",
      " 3   tau4    10000 non-null  float64\n",
      " 4   p1      10000 non-null  float64\n",
      " 5   p2      10000 non-null  float64\n",
      " 6   p3      10000 non-null  float64\n",
      " 7   p4      10000 non-null  float64\n",
      " 8   g1      10000 non-null  float64\n",
      " 9   g2      10000 non-null  float64\n",
      " 10  g3      10000 non-null  float64\n",
      " 11  g4      10000 non-null  float64\n",
      " 12  stab    10000 non-null  float64\n",
      " 13  stabf   10000 non-null  object \n",
      "dtypes: float64(13), object(1)\n",
      "memory usage: 1.1+ MB\n"
     ]
    }
   ],
   "source": [
    "df.info()"
   ]
  },
  {
   "cell_type": "markdown",
   "id": "718226c0",
   "metadata": {},
   "source": [
    "There is need to encode the target variable since it is an object type"
   ]
  },
  {
   "cell_type": "code",
   "execution_count": 12,
   "id": "d196a048",
   "metadata": {},
   "outputs": [
    {
     "name": "stdout",
     "output_type": "stream",
     "text": [
      "unstable    6380\n",
      "stable      3620\n",
      "Name: stabf, dtype: int64\n"
     ]
    },
    {
     "data": {
      "text/plain": [
       "<AxesSubplot:>"
      ]
     },
     "execution_count": 12,
     "metadata": {},
     "output_type": "execute_result"
    },
    {
     "data": {
      "image/png": "[encoded data removed]",
      "text/plain": [
       "<Figure size 640x480 with 1 Axes>"
      ]
     },
     "metadata": {},
     "output_type": "display_data"
    }
   ],
   "source": [
    "#finding out how many of each classes are there\n",
    "print(df['stabf'].value_counts())\n",
    "df['stabf'].value_counts().plot(kind = 'bar', color = ['green', 'red'])"
   ]
  },
  {
   "cell_type": "markdown",
   "id": "eb573f1c",
   "metadata": {},
   "source": [
    "The target variable has 2 unbalanced classes (Unstable = 6380, and Stable = 3620)"
   ]
  },
  {
   "cell_type": "code",
   "execution_count": 18,
   "id": "b584714f",
   "metadata": {},
   "outputs": [],
   "source": [
    "#Encoding target variable\n",
    "from sklearn.preprocessing import LabelEncoder \n",
    "encoder = LabelEncoder() \n",
    "df['stabf'] = encoder.fit_transform(df['stabf'])"
   ]
  },
  {
   "cell_type": "code",
   "execution_count": 20,
   "id": "2121ec73",
   "metadata": {},
   "outputs": [
    {
     "data": {
      "text/html": [
       "<div>\n",
       "<style scoped>\n",
       "    .dataframe tbody tr th:only-of-type {\n",
       "        vertical-align: middle;\n",
       "    }\n",
       "\n",
       "    .dataframe tbody tr th {\n",
       "        vertical-align: top;\n",
       "    }\n",
       "\n",
       "    .dataframe thead th {\n",
       "        text-align: right;\n",
       "    }\n",
       "</style>\n",
       "<table border=\"1\" class=\"dataframe\">\n",
       "  <thead>\n",
       "    <tr style=\"text-align: right;\">\n",
       "      <th></th>\n",
       "      <th>tau1</th>\n",
       "      <th>tau2</th>\n",
       "      <th>tau3</th>\n",
       "      <th>tau4</th>\n",
       "      <th>p1</th>\n",
       "      <th>p2</th>\n",
       "      <th>p3</th>\n",
       "      <th>p4</th>\n",
       "      <th>g1</th>\n",
       "      <th>g2</th>\n",
       "      <th>g3</th>\n",
       "      <th>g4</th>\n",
       "      <th>stab</th>\n",
       "      <th>stabf</th>\n",
       "    </tr>\n",
       "  </thead>\n",
       "  <tbody>\n",
       "    <tr>\n",
       "      <th>0</th>\n",
       "      <td>2.959060</td>\n",
       "      <td>3.079885</td>\n",
       "      <td>8.381025</td>\n",
       "      <td>9.780754</td>\n",
       "      <td>3.763085</td>\n",
       "      <td>-0.782604</td>\n",
       "      <td>-1.257395</td>\n",
       "      <td>-1.723086</td>\n",
       "      <td>0.650456</td>\n",
       "      <td>0.859578</td>\n",
       "      <td>0.887445</td>\n",
       "      <td>0.958034</td>\n",
       "      <td>0.055347</td>\n",
       "      <td>0</td>\n",
       "    </tr>\n",
       "    <tr>\n",
       "      <th>1</th>\n",
       "      <td>9.304097</td>\n",
       "      <td>4.902524</td>\n",
       "      <td>3.047541</td>\n",
       "      <td>1.369357</td>\n",
       "      <td>5.067812</td>\n",
       "      <td>-1.940058</td>\n",
       "      <td>-1.872742</td>\n",
       "      <td>-1.255012</td>\n",
       "      <td>0.413441</td>\n",
       "      <td>0.862414</td>\n",
       "      <td>0.562139</td>\n",
       "      <td>0.781760</td>\n",
       "      <td>-0.005957</td>\n",
       "      <td>1</td>\n",
       "    </tr>\n",
       "    <tr>\n",
       "      <th>2</th>\n",
       "      <td>8.971707</td>\n",
       "      <td>8.848428</td>\n",
       "      <td>3.046479</td>\n",
       "      <td>1.214518</td>\n",
       "      <td>3.405158</td>\n",
       "      <td>-1.207456</td>\n",
       "      <td>-1.277210</td>\n",
       "      <td>-0.920492</td>\n",
       "      <td>0.163041</td>\n",
       "      <td>0.766689</td>\n",
       "      <td>0.839444</td>\n",
       "      <td>0.109853</td>\n",
       "      <td>0.003471</td>\n",
       "      <td>0</td>\n",
       "    </tr>\n",
       "    <tr>\n",
       "      <th>3</th>\n",
       "      <td>0.716415</td>\n",
       "      <td>7.669600</td>\n",
       "      <td>4.486641</td>\n",
       "      <td>2.340563</td>\n",
       "      <td>3.963791</td>\n",
       "      <td>-1.027473</td>\n",
       "      <td>-1.938944</td>\n",
       "      <td>-0.997374</td>\n",
       "      <td>0.446209</td>\n",
       "      <td>0.976744</td>\n",
       "      <td>0.929381</td>\n",
       "      <td>0.362718</td>\n",
       "      <td>0.028871</td>\n",
       "      <td>0</td>\n",
       "    </tr>\n",
       "    <tr>\n",
       "      <th>4</th>\n",
       "      <td>3.134112</td>\n",
       "      <td>7.608772</td>\n",
       "      <td>4.943759</td>\n",
       "      <td>9.857573</td>\n",
       "      <td>3.525811</td>\n",
       "      <td>-1.125531</td>\n",
       "      <td>-1.845975</td>\n",
       "      <td>-0.554305</td>\n",
       "      <td>0.797110</td>\n",
       "      <td>0.455450</td>\n",
       "      <td>0.656947</td>\n",
       "      <td>0.820923</td>\n",
       "      <td>0.049860</td>\n",
       "      <td>0</td>\n",
       "    </tr>\n",
       "    <tr>\n",
       "      <th>...</th>\n",
       "      <td>...</td>\n",
       "      <td>...</td>\n",
       "      <td>...</td>\n",
       "      <td>...</td>\n",
       "      <td>...</td>\n",
       "      <td>...</td>\n",
       "      <td>...</td>\n",
       "      <td>...</td>\n",
       "      <td>...</td>\n",
       "      <td>...</td>\n",
       "      <td>...</td>\n",
       "      <td>...</td>\n",
       "      <td>...</td>\n",
       "      <td>...</td>\n",
       "    </tr>\n",
       "    <tr>\n",
       "      <th>9995</th>\n",
       "      <td>2.930406</td>\n",
       "      <td>9.487627</td>\n",
       "      <td>2.376523</td>\n",
       "      <td>6.187797</td>\n",
       "      <td>3.343416</td>\n",
       "      <td>-0.658054</td>\n",
       "      <td>-1.449106</td>\n",
       "      <td>-1.236256</td>\n",
       "      <td>0.601709</td>\n",
       "      <td>0.779642</td>\n",
       "      <td>0.813512</td>\n",
       "      <td>0.608385</td>\n",
       "      <td>0.023892</td>\n",
       "      <td>0</td>\n",
       "    </tr>\n",
       "    <tr>\n",
       "      <th>9996</th>\n",
       "      <td>3.392299</td>\n",
       "      <td>1.274827</td>\n",
       "      <td>2.954947</td>\n",
       "      <td>6.894759</td>\n",
       "      <td>4.349512</td>\n",
       "      <td>-1.663661</td>\n",
       "      <td>-0.952437</td>\n",
       "      <td>-1.733414</td>\n",
       "      <td>0.502079</td>\n",
       "      <td>0.567242</td>\n",
       "      <td>0.285880</td>\n",
       "      <td>0.366120</td>\n",
       "      <td>-0.025803</td>\n",
       "      <td>1</td>\n",
       "    </tr>\n",
       "    <tr>\n",
       "      <th>9997</th>\n",
       "      <td>2.364034</td>\n",
       "      <td>2.842030</td>\n",
       "      <td>8.776391</td>\n",
       "      <td>1.008906</td>\n",
       "      <td>4.299976</td>\n",
       "      <td>-1.380719</td>\n",
       "      <td>-0.943884</td>\n",
       "      <td>-1.975373</td>\n",
       "      <td>0.487838</td>\n",
       "      <td>0.986505</td>\n",
       "      <td>0.149286</td>\n",
       "      <td>0.145984</td>\n",
       "      <td>-0.031810</td>\n",
       "      <td>1</td>\n",
       "    </tr>\n",
       "    <tr>\n",
       "      <th>9998</th>\n",
       "      <td>9.631511</td>\n",
       "      <td>3.994398</td>\n",
       "      <td>2.757071</td>\n",
       "      <td>7.821347</td>\n",
       "      <td>2.514755</td>\n",
       "      <td>-0.966330</td>\n",
       "      <td>-0.649915</td>\n",
       "      <td>-0.898510</td>\n",
       "      <td>0.365246</td>\n",
       "      <td>0.587558</td>\n",
       "      <td>0.889118</td>\n",
       "      <td>0.818391</td>\n",
       "      <td>0.037789</td>\n",
       "      <td>0</td>\n",
       "    </tr>\n",
       "    <tr>\n",
       "      <th>9999</th>\n",
       "      <td>6.530527</td>\n",
       "      <td>6.781790</td>\n",
       "      <td>4.349695</td>\n",
       "      <td>8.673138</td>\n",
       "      <td>3.492807</td>\n",
       "      <td>-1.390285</td>\n",
       "      <td>-1.532193</td>\n",
       "      <td>-0.570329</td>\n",
       "      <td>0.073056</td>\n",
       "      <td>0.505441</td>\n",
       "      <td>0.378761</td>\n",
       "      <td>0.942631</td>\n",
       "      <td>0.045263</td>\n",
       "      <td>0</td>\n",
       "    </tr>\n",
       "  </tbody>\n",
       "</table>\n",
       "<p>10000 rows × 14 columns</p>\n",
       "</div>"
      ],
      "text/plain": [
       "          tau1      tau2      tau3      tau4        p1        p2        p3  \\\n",
       "0     2.959060  3.079885  8.381025  9.780754  3.763085 -0.782604 -1.257395   \n",
       "1     9.304097  4.902524  3.047541  1.369357  5.067812 -1.940058 -1.872742   \n",
       "2     8.971707  8.848428  3.046479  1.214518  3.405158 -1.207456 -1.277210   \n",
       "3     0.716415  7.669600  4.486641  2.340563  3.963791 -1.027473 -1.938944   \n",
       "4     3.134112  7.608772  4.943759  9.857573  3.525811 -1.125531 -1.845975   \n",
       "...        ...       ...       ...       ...       ...       ...       ...   \n",
       "9995  2.930406  9.487627  2.376523  6.187797  3.343416 -0.658054 -1.449106   \n",
       "9996  3.392299  1.274827  2.954947  6.894759  4.349512 -1.663661 -0.952437   \n",
       "9997  2.364034  2.842030  8.776391  1.008906  4.299976 -1.380719 -0.943884   \n",
       "9998  9.631511  3.994398  2.757071  7.821347  2.514755 -0.966330 -0.649915   \n",
       "9999  6.530527  6.781790  4.349695  8.673138  3.492807 -1.390285 -1.532193   \n",
       "\n",
       "            p4        g1        g2        g3        g4      stab  stabf  \n",
       "0    -1.723086  0.650456  0.859578  0.887445  0.958034  0.055347      0  \n",
       "1    -1.255012  0.413441  0.862414  0.562139  0.781760 -0.005957      1  \n",
       "2    -0.920492  0.163041  0.766689  0.839444  0.109853  0.003471      0  \n",
       "3    -0.997374  0.446209  0.976744  0.929381  0.362718  0.028871      0  \n",
       "4    -0.554305  0.797110  0.455450  0.656947  0.820923  0.049860      0  \n",
       "...        ...       ...       ...       ...       ...       ...    ...  \n",
       "9995 -1.236256  0.601709  0.779642  0.813512  0.608385  0.023892      0  \n",
       "9996 -1.733414  0.502079  0.567242  0.285880  0.366120 -0.025803      1  \n",
       "9997 -1.975373  0.487838  0.986505  0.149286  0.145984 -0.031810      1  \n",
       "9998 -0.898510  0.365246  0.587558  0.889118  0.818391  0.037789      0  \n",
       "9999 -0.570329  0.073056  0.505441  0.378761  0.942631  0.045263      0  \n",
       "\n",
       "[10000 rows x 14 columns]"
      ]
     },
     "execution_count": 20,
     "metadata": {},
     "output_type": "execute_result"
    }
   ],
   "source": [
    "df['stabf'].replace([1, 0], [0, 1], inplace=True)\n",
    "df"
   ]
  },
  {
   "cell_type": "markdown",
   "id": "d67802fb",
   "metadata": {},
   "source": [
    "0 = Unstable, 1 = Stable"
   ]
  },
  {
   "cell_type": "code",
   "execution_count": 21,
   "id": "614ba970",
   "metadata": {},
   "outputs": [
    {
     "data": {
      "text/html": [
       "<div>\n",
       "<style scoped>\n",
       "    .dataframe tbody tr th:only-of-type {\n",
       "        vertical-align: middle;\n",
       "    }\n",
       "\n",
       "    .dataframe tbody tr th {\n",
       "        vertical-align: top;\n",
       "    }\n",
       "\n",
       "    .dataframe thead th {\n",
       "        text-align: right;\n",
       "    }\n",
       "</style>\n",
       "<table border=\"1\" class=\"dataframe\">\n",
       "  <thead>\n",
       "    <tr style=\"text-align: right;\">\n",
       "      <th></th>\n",
       "      <th>tau1</th>\n",
       "      <th>tau2</th>\n",
       "      <th>tau3</th>\n",
       "      <th>tau4</th>\n",
       "      <th>p1</th>\n",
       "      <th>p2</th>\n",
       "      <th>p3</th>\n",
       "      <th>p4</th>\n",
       "      <th>g1</th>\n",
       "      <th>g2</th>\n",
       "      <th>g3</th>\n",
       "      <th>g4</th>\n",
       "      <th>stab</th>\n",
       "      <th>stabf</th>\n",
       "    </tr>\n",
       "  </thead>\n",
       "  <tbody>\n",
       "    <tr>\n",
       "      <th>count</th>\n",
       "      <td>10000.000000</td>\n",
       "      <td>10000.000000</td>\n",
       "      <td>10000.000000</td>\n",
       "      <td>10000.000000</td>\n",
       "      <td>10000.000000</td>\n",
       "      <td>10000.000000</td>\n",
       "      <td>10000.000000</td>\n",
       "      <td>10000.000000</td>\n",
       "      <td>10000.000000</td>\n",
       "      <td>10000.000000</td>\n",
       "      <td>10000.000000</td>\n",
       "      <td>10000.000000</td>\n",
       "      <td>10000.000000</td>\n",
       "      <td>10000.000000</td>\n",
       "    </tr>\n",
       "    <tr>\n",
       "      <th>mean</th>\n",
       "      <td>5.250000</td>\n",
       "      <td>5.250001</td>\n",
       "      <td>5.250004</td>\n",
       "      <td>5.249997</td>\n",
       "      <td>3.750000</td>\n",
       "      <td>-1.250000</td>\n",
       "      <td>-1.250000</td>\n",
       "      <td>-1.250000</td>\n",
       "      <td>0.525000</td>\n",
       "      <td>0.525000</td>\n",
       "      <td>0.525000</td>\n",
       "      <td>0.525000</td>\n",
       "      <td>0.015731</td>\n",
       "      <td>0.362000</td>\n",
       "    </tr>\n",
       "    <tr>\n",
       "      <th>std</th>\n",
       "      <td>2.742548</td>\n",
       "      <td>2.742549</td>\n",
       "      <td>2.742549</td>\n",
       "      <td>2.742556</td>\n",
       "      <td>0.752160</td>\n",
       "      <td>0.433035</td>\n",
       "      <td>0.433035</td>\n",
       "      <td>0.433035</td>\n",
       "      <td>0.274256</td>\n",
       "      <td>0.274255</td>\n",
       "      <td>0.274255</td>\n",
       "      <td>0.274255</td>\n",
       "      <td>0.036919</td>\n",
       "      <td>0.480603</td>\n",
       "    </tr>\n",
       "    <tr>\n",
       "      <th>min</th>\n",
       "      <td>0.500793</td>\n",
       "      <td>0.500141</td>\n",
       "      <td>0.500788</td>\n",
       "      <td>0.500473</td>\n",
       "      <td>1.582590</td>\n",
       "      <td>-1.999891</td>\n",
       "      <td>-1.999945</td>\n",
       "      <td>-1.999926</td>\n",
       "      <td>0.050009</td>\n",
       "      <td>0.050053</td>\n",
       "      <td>0.050054</td>\n",
       "      <td>0.050028</td>\n",
       "      <td>-0.080760</td>\n",
       "      <td>0.000000</td>\n",
       "    </tr>\n",
       "    <tr>\n",
       "      <th>25%</th>\n",
       "      <td>2.874892</td>\n",
       "      <td>2.875140</td>\n",
       "      <td>2.875522</td>\n",
       "      <td>2.874950</td>\n",
       "      <td>3.218300</td>\n",
       "      <td>-1.624901</td>\n",
       "      <td>-1.625025</td>\n",
       "      <td>-1.624960</td>\n",
       "      <td>0.287521</td>\n",
       "      <td>0.287552</td>\n",
       "      <td>0.287514</td>\n",
       "      <td>0.287494</td>\n",
       "      <td>-0.015557</td>\n",
       "      <td>0.000000</td>\n",
       "    </tr>\n",
       "    <tr>\n",
       "      <th>50%</th>\n",
       "      <td>5.250004</td>\n",
       "      <td>5.249981</td>\n",
       "      <td>5.249979</td>\n",
       "      <td>5.249734</td>\n",
       "      <td>3.751025</td>\n",
       "      <td>-1.249966</td>\n",
       "      <td>-1.249974</td>\n",
       "      <td>-1.250007</td>\n",
       "      <td>0.525009</td>\n",
       "      <td>0.525003</td>\n",
       "      <td>0.525015</td>\n",
       "      <td>0.525002</td>\n",
       "      <td>0.017142</td>\n",
       "      <td>0.000000</td>\n",
       "    </tr>\n",
       "    <tr>\n",
       "      <th>75%</th>\n",
       "      <td>7.624690</td>\n",
       "      <td>7.624893</td>\n",
       "      <td>7.624948</td>\n",
       "      <td>7.624838</td>\n",
       "      <td>4.282420</td>\n",
       "      <td>-0.874977</td>\n",
       "      <td>-0.875043</td>\n",
       "      <td>-0.875065</td>\n",
       "      <td>0.762435</td>\n",
       "      <td>0.762490</td>\n",
       "      <td>0.762440</td>\n",
       "      <td>0.762433</td>\n",
       "      <td>0.044878</td>\n",
       "      <td>1.000000</td>\n",
       "    </tr>\n",
       "    <tr>\n",
       "      <th>max</th>\n",
       "      <td>9.999469</td>\n",
       "      <td>9.999837</td>\n",
       "      <td>9.999450</td>\n",
       "      <td>9.999443</td>\n",
       "      <td>5.864418</td>\n",
       "      <td>-0.500108</td>\n",
       "      <td>-0.500072</td>\n",
       "      <td>-0.500025</td>\n",
       "      <td>0.999937</td>\n",
       "      <td>0.999944</td>\n",
       "      <td>0.999982</td>\n",
       "      <td>0.999930</td>\n",
       "      <td>0.109403</td>\n",
       "      <td>1.000000</td>\n",
       "    </tr>\n",
       "  </tbody>\n",
       "</table>\n",
       "</div>"
      ],
      "text/plain": [
       "               tau1          tau2          tau3          tau4            p1  \\\n",
       "count  10000.000000  10000.000000  10000.000000  10000.000000  10000.000000   \n",
       "mean       5.250000      5.250001      5.250004      5.249997      3.750000   \n",
       "std        2.742548      2.742549      2.742549      2.742556      0.752160   \n",
       "min        0.500793      0.500141      0.500788      0.500473      1.582590   \n",
       "25%        2.874892      2.875140      2.875522      2.874950      3.218300   \n",
       "50%        5.250004      5.249981      5.249979      5.249734      3.751025   \n",
       "75%        7.624690      7.624893      7.624948      7.624838      4.282420   \n",
       "max        9.999469      9.999837      9.999450      9.999443      5.864418   \n",
       "\n",
       "                 p2            p3            p4            g1            g2  \\\n",
       "count  10000.000000  10000.000000  10000.000000  10000.000000  10000.000000   \n",
       "mean      -1.250000     -1.250000     -1.250000      0.525000      0.525000   \n",
       "std        0.433035      0.433035      0.433035      0.274256      0.274255   \n",
       "min       -1.999891     -1.999945     -1.999926      0.050009      0.050053   \n",
       "25%       -1.624901     -1.625025     -1.624960      0.287521      0.287552   \n",
       "50%       -1.249966     -1.249974     -1.250007      0.525009      0.525003   \n",
       "75%       -0.874977     -0.875043     -0.875065      0.762435      0.762490   \n",
       "max       -0.500108     -0.500072     -0.500025      0.999937      0.999944   \n",
       "\n",
       "                 g3            g4          stab         stabf  \n",
       "count  10000.000000  10000.000000  10000.000000  10000.000000  \n",
       "mean       0.525000      0.525000      0.015731      0.362000  \n",
       "std        0.274255      0.274255      0.036919      0.480603  \n",
       "min        0.050054      0.050028     -0.080760      0.000000  \n",
       "25%        0.287514      0.287494     -0.015557      0.000000  \n",
       "50%        0.525015      0.525002      0.017142      0.000000  \n",
       "75%        0.762440      0.762433      0.044878      1.000000  \n",
       "max        0.999982      0.999930      0.109403      1.000000  "
      ]
     },
     "execution_count": 21,
     "metadata": {},
     "output_type": "execute_result"
    }
   ],
   "source": [
    "df.describe()"
   ]
  },
  {
   "cell_type": "code",
   "execution_count": 22,
   "id": "0f0d8e81",
   "metadata": {},
   "outputs": [
    {
     "name": "stdout",
     "output_type": "stream",
     "text": [
      "<class 'pandas.core.frame.DataFrame'>\n",
      "RangeIndex: 10000 entries, 0 to 9999\n",
      "Data columns (total 14 columns):\n",
      " #   Column  Non-Null Count  Dtype  \n",
      "---  ------  --------------  -----  \n",
      " 0   tau1    10000 non-null  float64\n",
      " 1   tau2    10000 non-null  float64\n",
      " 2   tau3    10000 non-null  float64\n",
      " 3   tau4    10000 non-null  float64\n",
      " 4   p1      10000 non-null  float64\n",
      " 5   p2      10000 non-null  float64\n",
      " 6   p3      10000 non-null  float64\n",
      " 7   p4      10000 non-null  float64\n",
      " 8   g1      10000 non-null  float64\n",
      " 9   g2      10000 non-null  float64\n",
      " 10  g3      10000 non-null  float64\n",
      " 11  g4      10000 non-null  float64\n",
      " 12  stab    10000 non-null  float64\n",
      " 13  stabf   10000 non-null  int64  \n",
      "dtypes: float64(13), int64(1)\n",
      "memory usage: 1.1 MB\n"
     ]
    }
   ],
   "source": [
    "df.info();"
   ]
  },
  {
   "cell_type": "markdown",
   "id": "e975ed82",
   "metadata": {},
   "source": [
    "Now, the data has no object variable."
   ]
  },
  {
   "cell_type": "code",
   "execution_count": 23,
   "id": "4bf99eed",
   "metadata": {},
   "outputs": [
    {
     "data": {
      "text/html": [
       "<div>\n",
       "<style scoped>\n",
       "    .dataframe tbody tr th:only-of-type {\n",
       "        vertical-align: middle;\n",
       "    }\n",
       "\n",
       "    .dataframe tbody tr th {\n",
       "        vertical-align: top;\n",
       "    }\n",
       "\n",
       "    .dataframe thead th {\n",
       "        text-align: right;\n",
       "    }\n",
       "</style>\n",
       "<table border=\"1\" class=\"dataframe\">\n",
       "  <thead>\n",
       "    <tr style=\"text-align: right;\">\n",
       "      <th></th>\n",
       "      <th>tau1</th>\n",
       "      <th>tau2</th>\n",
       "      <th>tau3</th>\n",
       "      <th>tau4</th>\n",
       "      <th>p1</th>\n",
       "      <th>p2</th>\n",
       "      <th>p3</th>\n",
       "      <th>p4</th>\n",
       "      <th>g1</th>\n",
       "      <th>g2</th>\n",
       "      <th>g3</th>\n",
       "      <th>g4</th>\n",
       "      <th>stab</th>\n",
       "      <th>stabf</th>\n",
       "    </tr>\n",
       "  </thead>\n",
       "  <tbody>\n",
       "    <tr>\n",
       "      <th>tau1</th>\n",
       "      <td>1.000000</td>\n",
       "      <td>0.015586</td>\n",
       "      <td>-0.005970</td>\n",
       "      <td>-0.017265</td>\n",
       "      <td>0.027183</td>\n",
       "      <td>-0.015485</td>\n",
       "      <td>-0.015924</td>\n",
       "      <td>-0.015807</td>\n",
       "      <td>0.010521</td>\n",
       "      <td>0.015350</td>\n",
       "      <td>-0.001279</td>\n",
       "      <td>0.005494</td>\n",
       "      <td>0.275761</td>\n",
       "      <td>-0.234898</td>\n",
       "    </tr>\n",
       "    <tr>\n",
       "      <th>tau2</th>\n",
       "      <td>0.015586</td>\n",
       "      <td>1.000000</td>\n",
       "      <td>0.014273</td>\n",
       "      <td>-0.001965</td>\n",
       "      <td>-0.004769</td>\n",
       "      <td>0.006573</td>\n",
       "      <td>0.007673</td>\n",
       "      <td>-0.005963</td>\n",
       "      <td>-0.001742</td>\n",
       "      <td>0.015383</td>\n",
       "      <td>0.016508</td>\n",
       "      <td>-0.011764</td>\n",
       "      <td>0.290975</td>\n",
       "      <td>-0.246280</td>\n",
       "    </tr>\n",
       "    <tr>\n",
       "      <th>tau3</th>\n",
       "      <td>-0.005970</td>\n",
       "      <td>0.014273</td>\n",
       "      <td>1.000000</td>\n",
       "      <td>0.004354</td>\n",
       "      <td>0.016953</td>\n",
       "      <td>-0.003134</td>\n",
       "      <td>-0.008780</td>\n",
       "      <td>-0.017531</td>\n",
       "      <td>-0.011605</td>\n",
       "      <td>0.007671</td>\n",
       "      <td>0.014702</td>\n",
       "      <td>-0.011497</td>\n",
       "      <td>0.280700</td>\n",
       "      <td>-0.237492</td>\n",
       "    </tr>\n",
       "    <tr>\n",
       "      <th>tau4</th>\n",
       "      <td>-0.017265</td>\n",
       "      <td>-0.001965</td>\n",
       "      <td>0.004354</td>\n",
       "      <td>1.000000</td>\n",
       "      <td>-0.003173</td>\n",
       "      <td>0.010553</td>\n",
       "      <td>0.006169</td>\n",
       "      <td>-0.011211</td>\n",
       "      <td>-0.004149</td>\n",
       "      <td>0.008431</td>\n",
       "      <td>0.003260</td>\n",
       "      <td>-0.000491</td>\n",
       "      <td>0.278576</td>\n",
       "      <td>-0.239375</td>\n",
       "    </tr>\n",
       "    <tr>\n",
       "      <th>p1</th>\n",
       "      <td>0.027183</td>\n",
       "      <td>-0.004769</td>\n",
       "      <td>0.016953</td>\n",
       "      <td>-0.003173</td>\n",
       "      <td>1.000000</td>\n",
       "      <td>-0.573157</td>\n",
       "      <td>-0.584554</td>\n",
       "      <td>-0.579239</td>\n",
       "      <td>0.000721</td>\n",
       "      <td>0.015405</td>\n",
       "      <td>0.001069</td>\n",
       "      <td>-0.015451</td>\n",
       "      <td>0.010278</td>\n",
       "      <td>-0.009938</td>\n",
       "    </tr>\n",
       "    <tr>\n",
       "      <th>p2</th>\n",
       "      <td>-0.015485</td>\n",
       "      <td>0.006573</td>\n",
       "      <td>-0.003134</td>\n",
       "      <td>0.010553</td>\n",
       "      <td>-0.573157</td>\n",
       "      <td>1.000000</td>\n",
       "      <td>0.002388</td>\n",
       "      <td>-0.006844</td>\n",
       "      <td>0.015603</td>\n",
       "      <td>-0.018032</td>\n",
       "      <td>0.007555</td>\n",
       "      <td>0.019817</td>\n",
       "      <td>0.006255</td>\n",
       "      <td>-0.006173</td>\n",
       "    </tr>\n",
       "    <tr>\n",
       "      <th>p3</th>\n",
       "      <td>-0.015924</td>\n",
       "      <td>0.007673</td>\n",
       "      <td>-0.008780</td>\n",
       "      <td>0.006169</td>\n",
       "      <td>-0.584554</td>\n",
       "      <td>0.002388</td>\n",
       "      <td>1.000000</td>\n",
       "      <td>0.012953</td>\n",
       "      <td>-0.003219</td>\n",
       "      <td>-0.011575</td>\n",
       "      <td>-0.005897</td>\n",
       "      <td>-0.010485</td>\n",
       "      <td>-0.003321</td>\n",
       "      <td>0.000649</td>\n",
       "    </tr>\n",
       "    <tr>\n",
       "      <th>p4</th>\n",
       "      <td>-0.015807</td>\n",
       "      <td>-0.005963</td>\n",
       "      <td>-0.017531</td>\n",
       "      <td>-0.011211</td>\n",
       "      <td>-0.579239</td>\n",
       "      <td>-0.006844</td>\n",
       "      <td>0.012953</td>\n",
       "      <td>1.000000</td>\n",
       "      <td>-0.013636</td>\n",
       "      <td>0.002850</td>\n",
       "      <td>-0.003515</td>\n",
       "      <td>0.017505</td>\n",
       "      <td>-0.020786</td>\n",
       "      <td>0.022785</td>\n",
       "    </tr>\n",
       "    <tr>\n",
       "      <th>g1</th>\n",
       "      <td>0.010521</td>\n",
       "      <td>-0.001742</td>\n",
       "      <td>-0.011605</td>\n",
       "      <td>-0.004149</td>\n",
       "      <td>0.000721</td>\n",
       "      <td>0.015603</td>\n",
       "      <td>-0.003219</td>\n",
       "      <td>-0.013636</td>\n",
       "      <td>1.000000</td>\n",
       "      <td>0.007559</td>\n",
       "      <td>-0.005836</td>\n",
       "      <td>0.012431</td>\n",
       "      <td>0.282774</td>\n",
       "      <td>-0.197664</td>\n",
       "    </tr>\n",
       "    <tr>\n",
       "      <th>g2</th>\n",
       "      <td>0.015350</td>\n",
       "      <td>0.015383</td>\n",
       "      <td>0.007671</td>\n",
       "      <td>0.008431</td>\n",
       "      <td>0.015405</td>\n",
       "      <td>-0.018032</td>\n",
       "      <td>-0.011575</td>\n",
       "      <td>0.002850</td>\n",
       "      <td>0.007559</td>\n",
       "      <td>1.000000</td>\n",
       "      <td>-0.012809</td>\n",
       "      <td>-0.014909</td>\n",
       "      <td>0.293601</td>\n",
       "      <td>-0.217341</td>\n",
       "    </tr>\n",
       "    <tr>\n",
       "      <th>g3</th>\n",
       "      <td>-0.001279</td>\n",
       "      <td>0.016508</td>\n",
       "      <td>0.014702</td>\n",
       "      <td>0.003260</td>\n",
       "      <td>0.001069</td>\n",
       "      <td>0.007555</td>\n",
       "      <td>-0.005897</td>\n",
       "      <td>-0.003515</td>\n",
       "      <td>-0.005836</td>\n",
       "      <td>-0.012809</td>\n",
       "      <td>1.000000</td>\n",
       "      <td>0.006900</td>\n",
       "      <td>0.308235</td>\n",
       "      <td>-0.231774</td>\n",
       "    </tr>\n",
       "    <tr>\n",
       "      <th>g4</th>\n",
       "      <td>0.005494</td>\n",
       "      <td>-0.011764</td>\n",
       "      <td>-0.011497</td>\n",
       "      <td>-0.000491</td>\n",
       "      <td>-0.015451</td>\n",
       "      <td>0.019817</td>\n",
       "      <td>-0.010485</td>\n",
       "      <td>0.017505</td>\n",
       "      <td>0.012431</td>\n",
       "      <td>-0.014909</td>\n",
       "      <td>0.006900</td>\n",
       "      <td>1.000000</td>\n",
       "      <td>0.279214</td>\n",
       "      <td>-0.204931</td>\n",
       "    </tr>\n",
       "    <tr>\n",
       "      <th>stab</th>\n",
       "      <td>0.275761</td>\n",
       "      <td>0.290975</td>\n",
       "      <td>0.280700</td>\n",
       "      <td>0.278576</td>\n",
       "      <td>0.010278</td>\n",
       "      <td>0.006255</td>\n",
       "      <td>-0.003321</td>\n",
       "      <td>-0.020786</td>\n",
       "      <td>0.282774</td>\n",
       "      <td>0.293601</td>\n",
       "      <td>0.308235</td>\n",
       "      <td>0.279214</td>\n",
       "      <td>1.000000</td>\n",
       "      <td>-0.826959</td>\n",
       "    </tr>\n",
       "    <tr>\n",
       "      <th>stabf</th>\n",
       "      <td>-0.234898</td>\n",
       "      <td>-0.246280</td>\n",
       "      <td>-0.237492</td>\n",
       "      <td>-0.239375</td>\n",
       "      <td>-0.009938</td>\n",
       "      <td>-0.006173</td>\n",
       "      <td>0.000649</td>\n",
       "      <td>0.022785</td>\n",
       "      <td>-0.197664</td>\n",
       "      <td>-0.217341</td>\n",
       "      <td>-0.231774</td>\n",
       "      <td>-0.204931</td>\n",
       "      <td>-0.826959</td>\n",
       "      <td>1.000000</td>\n",
       "    </tr>\n",
       "  </tbody>\n",
       "</table>\n",
       "</div>"
      ],
      "text/plain": [
       "           tau1      tau2      tau3      tau4        p1        p2        p3  \\\n",
       "tau1   1.000000  0.015586 -0.005970 -0.017265  0.027183 -0.015485 -0.015924   \n",
       "tau2   0.015586  1.000000  0.014273 -0.001965 -0.004769  0.006573  0.007673   \n",
       "tau3  -0.005970  0.014273  1.000000  0.004354  0.016953 -0.003134 -0.008780   \n",
       "tau4  -0.017265 -0.001965  0.004354  1.000000 -0.003173  0.010553  0.006169   \n",
       "p1     0.027183 -0.004769  0.016953 -0.003173  1.000000 -0.573157 -0.584554   \n",
       "p2    -0.015485  0.006573 -0.003134  0.010553 -0.573157  1.000000  0.002388   \n",
       "p3    -0.015924  0.007673 -0.008780  0.006169 -0.584554  0.002388  1.000000   \n",
       "p4    -0.015807 -0.005963 -0.017531 -0.011211 -0.579239 -0.006844  0.012953   \n",
       "g1     0.010521 -0.001742 -0.011605 -0.004149  0.000721  0.015603 -0.003219   \n",
       "g2     0.015350  0.015383  0.007671  0.008431  0.015405 -0.018032 -0.011575   \n",
       "g3    -0.001279  0.016508  0.014702  0.003260  0.001069  0.007555 -0.005897   \n",
       "g4     0.005494 -0.011764 -0.011497 -0.000491 -0.015451  0.019817 -0.010485   \n",
       "stab   0.275761  0.290975  0.280700  0.278576  0.010278  0.006255 -0.003321   \n",
       "stabf -0.234898 -0.246280 -0.237492 -0.239375 -0.009938 -0.006173  0.000649   \n",
       "\n",
       "             p4        g1        g2        g3        g4      stab     stabf  \n",
       "tau1  -0.015807  0.010521  0.015350 -0.001279  0.005494  0.275761 -0.234898  \n",
       "tau2  -0.005963 -0.001742  0.015383  0.016508 -0.011764  0.290975 -0.246280  \n",
       "tau3  -0.017531 -0.011605  0.007671  0.014702 -0.011497  0.280700 -0.237492  \n",
       "tau4  -0.011211 -0.004149  0.008431  0.003260 -0.000491  0.278576 -0.239375  \n",
       "p1    -0.579239  0.000721  0.015405  0.001069 -0.015451  0.010278 -0.009938  \n",
       "p2    -0.006844  0.015603 -0.018032  0.007555  0.019817  0.006255 -0.006173  \n",
       "p3     0.012953 -0.003219 -0.011575 -0.005897 -0.010485 -0.003321  0.000649  \n",
       "p4     1.000000 -0.013636  0.002850 -0.003515  0.017505 -0.020786  0.022785  \n",
       "g1    -0.013636  1.000000  0.007559 -0.005836  0.012431  0.282774 -0.197664  \n",
       "g2     0.002850  0.007559  1.000000 -0.012809 -0.014909  0.293601 -0.217341  \n",
       "g3    -0.003515 -0.005836 -0.012809  1.000000  0.006900  0.308235 -0.231774  \n",
       "g4     0.017505  0.012431 -0.014909  0.006900  1.000000  0.279214 -0.204931  \n",
       "stab  -0.020786  0.282774  0.293601  0.308235  0.279214  1.000000 -0.826959  \n",
       "stabf  0.022785 -0.197664 -0.217341 -0.231774 -0.204931 -0.826959  1.000000  "
      ]
     },
     "execution_count": 23,
     "metadata": {},
     "output_type": "execute_result"
    }
   ],
   "source": [
    "corr_mat = df.corr()\n",
    "corr_mat"
   ]
  },
  {
   "cell_type": "code",
   "execution_count": 24,
   "id": "7facee59",
   "metadata": {},
   "outputs": [
    {
     "data": {
      "image/png": "[encoded data removed]",
      "text/plain": [
       "<Figure size 1000x600 with 2 Axes>"
      ]
     },
     "metadata": {},
     "output_type": "display_data"
    }
   ],
   "source": [
    "#Visualising the Correlation\n",
    "fig, ax = plt.subplots(figsize=(10,6))\n",
    "ax = sns.heatmap(corr_mat, linewidths=0.5, annot=True );"
   ]
  },
  {
   "cell_type": "markdown",
   "id": "ed7c74bd",
   "metadata": {},
   "source": [
    "# DATA SPLITTING"
   ]
  },
  {
   "cell_type": "code",
   "execution_count": 25,
   "id": "8e0698ad",
   "metadata": {},
   "outputs": [],
   "source": [
    "#Splitting dataset into x and y\n",
    "x = df.drop('stabf', axis = 1)\n",
    "y = df['stabf']"
   ]
  },
  {
   "cell_type": "code",
   "execution_count": 47,
   "id": "34f00d1b",
   "metadata": {},
   "outputs": [],
   "source": [
    "#Splitting data into train and test set\n",
    "x_train, x_test, y_train, y_test = train_test_split(x, y, test_size = 0.2)"
   ]
  },
  {
   "cell_type": "code",
   "execution_count": 59,
   "id": "b0efb9dc",
   "metadata": {},
   "outputs": [],
   "source": [
    "#putting models in a dictionary\n",
    "models = {\n",
    "    \"Logistic Regression\": LogisticRegression(),\n",
    "    \"KNN\": KNeighborsClassifier(),\n",
    "    \"Random forest\": RandomForestClassifier(), \n",
    "    \"xgb\": xgb.XGBClassifier(),\n",
    "    \"lgb\": lgb.LGBMClassifier(),\n",
    "    \"ExtratreeClassifier\": ExtraTreesClassifier()\n",
    "}\n",
    "\n",
    "#setting up a function to fit and score models\n",
    "def fit_and_score(models, x_train, x_test, y_train, y_test):\n",
    "\n",
    "    #setting up a random seed\n",
    "    np.random.seed(42)\n",
    "    \n",
    "    #making a dictionary to keep model scores\n",
    "    model_scores = {}\n",
    "\n",
    "    #leaping through models\n",
    "    for name, model in models.items():\n",
    "        #fitting the model to the data\n",
    "        model.fit(x_train, y_train)\n",
    "    \n",
    "        #evaluating the model and appending its score to model_scores\n",
    "        model_scores[name] = model.score(x_test, y_test)\n",
    "    return model_scores"
   ]
  },
  {
   "cell_type": "code",
   "execution_count": 60,
   "id": "3647c7aa",
   "metadata": {
    "scrolled": true
   },
   "outputs": [
    {
     "name": "stderr",
     "output_type": "stream",
     "text": [
      "C:\\Users\\user\\anaconda3\\lib\\site-packages\\sklearn\\linear_model\\_logistic.py:814: ConvergenceWarning: lbfgs failed to converge (status=1):\n",
      "STOP: TOTAL NO. of ITERATIONS REACHED LIMIT.\n",
      "\n",
      "Increase the number of iterations (max_iter) or scale the data as shown in:\n",
      "    https://scikit-learn.org/stable/modules/preprocessing.html\n",
      "Please also refer to the documentation for alternative solver options:\n",
      "    https://scikit-learn.org/stable/modules/linear_model.html#logistic-regression\n",
      "  n_iter_i = _check_optimize_result(\n",
      "C:\\Users\\user\\anaconda3\\lib\\site-packages\\sklearn\\neighbors\\_classification.py:228: FutureWarning: Unlike other reduction functions (e.g. `skew`, `kurtosis`), the default behavior of `mode` typically preserves the axis it acts along. In SciPy 1.11.0, this behavior will change: the default value of `keepdims` will become False, the `axis` over which the statistic is taken will be eliminated, and the value None will no longer be accepted. Set `keepdims` to True or False to avoid this warning.\n",
      "  mode, _ = stats.mode(_y[neigh_ind, k], axis=1)\n"
     ]
    },
    {
     "data": {
      "text/plain": [
       "{'Logistic Regression': 0.891,\n",
       " 'KNN': 0.7833333333333333,\n",
       " 'Random forest': 1.0,\n",
       " 'xgb': 1.0,\n",
       " 'lgb': 1.0,\n",
       " 'ExtratreeClassifier': 0.9923333333333333}"
      ]
     },
     "execution_count": 60,
     "metadata": {},
     "output_type": "execute_result"
    }
   ],
   "source": [
    "#calling the created function\n",
    "scores = fit_and_score(models=models,\n",
    "                      x_train=x_train,\n",
    "                      x_test=x_test,\n",
    "                      y_train=y_train,\n",
    "                      y_test=y_test)\n",
    "scores"
   ]
  },
  {
   "cell_type": "markdown",
   "id": "6378ca08",
   "metadata": {},
   "source": [
    "Logistic Regression has 0.891 accuracy score.\n",
    "\n",
    "KNighbors Classifier has 0.78333 accuracy score.\n",
    "\n",
    "The randomforest Classifier has 1.0 accuracy score when assessed.\n",
    "\n",
    "Xgboost also had 1.0 accuracy score.\n",
    "\n",
    "LGBM also had 1.0 accuracy score\n",
    "\n",
    "ExtatreeClassifier had 0.992333 accuracy score"
   ]
  },
  {
   "cell_type": "code",
   "execution_count": 61,
   "id": "37971208",
   "metadata": {},
   "outputs": [
    {
     "data": {
      "image/png": "[encoded data removed]",
      "text/plain": [
       "<Figure size 640x480 with 1 Axes>"
      ]
     },
     "metadata": {},
     "output_type": "display_data"
    }
   ],
   "source": [
    "#plot view of the algorithms performance\n",
    "models_compare = pd.DataFrame(scores, index=['Accuracy'])\n",
    "models_compare.T.plot.bar();"
   ]
  },
  {
   "cell_type": "markdown",
   "id": "e484e334",
   "metadata": {},
   "source": [
    "# Predicting with XGBoost"
   ]
  },
  {
   "cell_type": "code",
   "execution_count": 65,
   "id": "39b2c017",
   "metadata": {},
   "outputs": [
    {
     "data": {
      "text/plain": [
       "1.0"
      ]
     },
     "execution_count": 65,
     "metadata": {},
     "output_type": "execute_result"
    }
   ],
   "source": [
    "xgbmodel = xgb.XGBClassifier()\n",
    "xgbmodel.fit(x_train, y_train)\n",
    "\n",
    "xgbmodel.score(x_test, y_test)"
   ]
  },
  {
   "cell_type": "code",
   "execution_count": 66,
   "id": "27e890d0",
   "metadata": {},
   "outputs": [
    {
     "data": {
      "text/plain": [
       "array([0, 0, 0, ..., 0, 0, 0])"
      ]
     },
     "execution_count": 66,
     "metadata": {},
     "output_type": "execute_result"
    }
   ],
   "source": [
    "y_preds = xgbmodel.predict(x_test)\n",
    "y_preds"
   ]
  },
  {
   "cell_type": "code",
   "execution_count": 67,
   "id": "70287787",
   "metadata": {},
   "outputs": [
    {
     "data": {
      "text/plain": [
       "3898    0\n",
       "6111    0\n",
       "4123    0\n",
       "718     0\n",
       "3132    1\n",
       "       ..\n",
       "3919    1\n",
       "1656    0\n",
       "1533    0\n",
       "2986    0\n",
       "4860    0\n",
       "Name: stabf, Length: 3000, dtype: int64"
      ]
     },
     "execution_count": 67,
     "metadata": {},
     "output_type": "execute_result"
    }
   ],
   "source": [
    "y_test"
   ]
  },
  {
   "cell_type": "code",
   "execution_count": 68,
   "id": "13717b7f",
   "metadata": {},
   "outputs": [
    {
     "name": "stdout",
     "output_type": "stream",
     "text": [
      "[[1914    0]\n",
      " [   0 1086]]\n"
     ]
    },
    {
     "data": {
      "image/png": "[encoded data removed]",
      "text/plain": [
       "<Figure size 300x300 with 1 Axes>"
      ]
     },
     "metadata": {},
     "output_type": "display_data"
    }
   ],
   "source": [
    "print(confusion_matrix(y_test, y_preds))\n",
    "\n",
    "#Visualising Confusion Matrix\n",
    "sns.set(font_scale=1.5)\n",
    "def plot_conf_mat(y_test, y_preds):\n",
    "    fig, ax = plt.subplots(figsize=(3,3))\n",
    "    ax = sns.heatmap(confusion_matrix(y_test, y_preds), annot=True, cbar=False)\n",
    "    plt.xlabel('True Label')\n",
    "    plt.ylabel('Predicted Label')\n",
    "    \n",
    "plot_conf_mat(y_test, y_preds)"
   ]
  },
  {
   "cell_type": "code",
   "execution_count": 97,
   "id": "ccf542e9",
   "metadata": {},
   "outputs": [
    {
     "name": "stdout",
     "output_type": "stream",
     "text": [
      "              precision    recall  f1-score   support\n",
      "\n",
      "           0       1.00      1.00      1.00      1914\n",
      "           1       1.00      1.00      1.00      1086\n",
      "\n",
      "    accuracy                           1.00      3000\n",
      "   macro avg       1.00      1.00      1.00      3000\n",
      "weighted avg       1.00      1.00      1.00      3000\n",
      "\n"
     ]
    }
   ],
   "source": [
    "#Classification Report\n",
    "print(classification_report(y_test, y_preds))"
   ]
  },
  {
   "cell_type": "markdown",
   "id": "dcc31449",
   "metadata": {},
   "source": [
    "# Hyperparameter tuning  of Extratrees Classifiers"
   ]
  },
  {
   "cell_type": "code",
   "execution_count": 74,
   "id": "540335d1",
   "metadata": {},
   "outputs": [
    {
     "name": "stdout",
     "output_type": "stream",
     "text": [
      "Fitting 5 folds for each of 10 candidates, totalling 50 fits\n"
     ]
    },
    {
     "data": {
      "text/plain": [
       "RandomizedSearchCV(cv=5, estimator=ExtraTreesClassifier(), n_jobs=-1,\n",
       "                   param_distributions={'max_features': [None, 3, 5, 10],\n",
       "                                        'min_samples_leaf': array([ 1,  3,  5,  7,  9, 11, 13, 15, 17, 19]),\n",
       "                                        'min_samples_split': array([ 2,  4,  6,  8, 10, 12, 14, 16, 18]),\n",
       "                                        'n_estimators': array([ 10,  60, 110, 160, 210, 260, 310, 360, 410, 460, 510, 560, 610,\n",
       "       660, 710, 760, 810, 860, 910, 960])},\n",
       "                   random_state=1, scoring='accuracy', verbose=1)"
      ]
     },
     "execution_count": 74,
     "metadata": {},
     "output_type": "execute_result"
    }
   ],
   "source": [
    "#Creating RandomizedCV Hyperparameter Grid for ExtratreeClassifier\n",
    "Extratree_grid = {'n_estimators': np.arange(10, 1000, 50),\n",
    "              'max_features': [None, 3, 5, 10],\n",
    "              'min_samples_split': np.arange(2, 20, 2),\n",
    "              'min_samples_leaf': np.arange(1, 20, 2)}\n",
    "\n",
    "#Tuning RandomforestClassifier\n",
    "np.random.seed(42)\n",
    "\n",
    "#Set up random hyperparameter search for ExtratreeClassifier\n",
    "Randsearch_Extratree = RandomizedSearchCV(ExtraTreesClassifier(), param_distributions=Extratree_grid, cv=5, n_iter=10, \n",
    "                                          scoring='accuracy', n_jobs=-1, verbose=1, random_state=1)\n",
    "\n",
    "#fitting random hyperparameter search model for ExtratreeClassifier\n",
    "Randsearch_Extratree.fit(x_train, y_train)"
   ]
  },
  {
   "cell_type": "code",
   "execution_count": 75,
   "id": "0bfb4b0e",
   "metadata": {},
   "outputs": [
    {
     "data": {
      "text/plain": [
       "{'n_estimators': 760,\n",
       " 'min_samples_split': 6,\n",
       " 'min_samples_leaf': 3,\n",
       " 'max_features': None}"
      ]
     },
     "execution_count": 75,
     "metadata": {},
     "output_type": "execute_result"
    }
   ],
   "source": [
    "Randsearch_Extratree.best_params_"
   ]
  },
  {
   "cell_type": "markdown",
   "id": "b50947de",
   "metadata": {},
   "source": [
    "The above are the best parameters after hyperparameter tuning."
   ]
  },
  {
   "cell_type": "code",
   "execution_count": 76,
   "id": "c6c2c27c",
   "metadata": {},
   "outputs": [
    {
     "data": {
      "text/plain": [
       "1.0"
      ]
     },
     "execution_count": 76,
     "metadata": {},
     "output_type": "execute_result"
    }
   ],
   "source": [
    "Randsearch_Extratree.score(x_test, y_test)"
   ]
  },
  {
   "cell_type": "markdown",
   "id": "fcfbdb2a",
   "metadata": {},
   "source": [
    "After Hyperparameter tuning, the accuracy score of the optimal model was improved from 0.99 to 1.0 when compared to the initial ExtratreeClassifier model."
   ]
  },
  {
   "cell_type": "markdown",
   "id": "b6d31766",
   "metadata": {},
   "source": [
    "# Feature importance using Optimal Extratreeclassifier Model"
   ]
  },
  {
   "cell_type": "code",
   "execution_count": 86,
   "id": "bae2fbef",
   "metadata": {},
   "outputs": [
    {
     "data": {
      "text/plain": [
       "array([9.94284248e-03, 1.63732750e-02, 9.93896490e-03, 1.18963405e-02,\n",
       "       2.12208411e-04, 2.71416323e-04, 2.49749822e-04, 2.35774264e-04,\n",
       "       2.00245568e-03, 2.56267622e-03, 4.02073160e-03, 3.93478872e-03,\n",
       "       9.38358776e-01])"
      ]
     },
     "execution_count": 86,
     "metadata": {},
     "output_type": "execute_result"
    }
   ],
   "source": [
    "#Creating a new Classifier with the best parameter\n",
    "clf = ExtraTreesClassifier(n_estimators=760, min_samples_split=6, min_samples_leaf=3, max_features=None)\n",
    "\n",
    "#fitting clf to the trained model\n",
    "clf.fit(x_train, y_train)\n",
    "\n",
    "#Check coefficients\n",
    "clf.feature_importances_"
   ]
  },
  {
   "cell_type": "code",
   "execution_count": 95,
   "id": "7e82341d",
   "metadata": {
    "scrolled": true
   },
   "outputs": [
    {
     "data": {
      "text/plain": [
       "{'tau1': 0.009942842476072898,\n",
       " 'tau2': 0.016373275014821085,\n",
       " 'tau3': 0.00993896490259457,\n",
       " 'tau4': 0.011896340523470699,\n",
       " 'p1': 0.0002122084114826057,\n",
       " 'p2': 0.0002714163228668483,\n",
       " 'p3': 0.0002497498218012749,\n",
       " 'p4': 0.00023577426357277,\n",
       " 'g1': 0.002002455676813931,\n",
       " 'g2': 0.0025626762154322526,\n",
       " 'g3': 0.004020731604493664,\n",
       " 'g4': 0.003934788718063563,\n",
       " 'stab': 0.9383587760485139}"
      ]
     },
     "execution_count": 95,
     "metadata": {},
     "output_type": "execute_result"
    }
   ],
   "source": [
    "#Creating feature dictionary\n",
    "feature_dict = dict(zip(df.columns, list(clf.feature_importances_)))\n",
    "feature_dict"
   ]
  },
  {
   "cell_type": "code",
   "execution_count": 96,
   "id": "7c7d8e98",
   "metadata": {},
   "outputs": [
    {
     "data": {
      "image/png": "[encoded data removed]",
      "text/plain": [
       "<Figure size 640x480 with 1 Axes>"
      ]
     },
     "metadata": {},
     "output_type": "display_data"
    }
   ],
   "source": [
    "#Visualize Feature importance\n",
    "feature_df = pd.DataFrame(feature_dict, index=[0])\n",
    "feature_df.T.plot.bar(title = 'FEATURE IMPORTANCE', legend = False);"
   ]
  },
  {
   "cell_type": "markdown",
   "id": "73d61a8b",
   "metadata": {},
   "source": [
    "From the feature importance plot above, 'Stab' feature has a positive correlation with the target variable and it has a very strong importance in predicting the model\n",
    "\n",
    "g1, p1 has the least importance according to the model"
   ]
  },
  {
   "cell_type": "markdown",
   "id": "9c81663c",
   "metadata": {},
   "source": [
    "# Installing Needed Libraries"
   ]
  },
  {
   "cell_type": "code",
   "execution_count": 34,
   "id": "eee65572",
   "metadata": {
    "scrolled": false
   },
   "outputs": [
    {
     "name": "stdout",
     "output_type": "stream",
     "text": [
      "Collecting xgboostNote: you may need to restart the kernel to use updated packages.\n",
      "\n",
      "  Downloading xgboost-1.7.6-py3-none-win_amd64.whl (70.9 MB)\n",
      "     -------------------------------------- 70.9/70.9 MB 733.7 kB/s eta 0:00:00\n",
      "Requirement already satisfied: numpy in c:\\users\\user\\anaconda3\\lib\\site-packages (from xgboost) (1.21.5)\n",
      "Requirement already satisfied: scipy in c:\\users\\user\\anaconda3\\lib\\site-packages (from xgboost) (1.9.1)\n",
      "Installing collected packages: xgboost\n",
      "Successfully installed xgboost-1.7.6\n"
     ]
    }
   ],
   "source": [
    "pip install xgboost"
   ]
  },
  {
   "cell_type": "code",
   "execution_count": 52,
   "id": "763609de",
   "metadata": {},
   "outputs": [
    {
     "name": "stdout",
     "output_type": "stream",
     "text": [
      "Collecting lightgbm\n",
      "  Downloading lightgbm-3.3.5-py3-none-win_amd64.whl (1.0 MB)\n",
      "     ---------------------------------------- 1.0/1.0 MB 662.2 kB/s eta 0:00:00\n",
      "Requirement already satisfied: scikit-learn!=0.22.0 in c:\\users\\user\\anaconda3\\lib\\site-packages (from lightgbm) (1.0.2)\n",
      "Requirement already satisfied: wheel in c:\\users\\user\\anaconda3\\lib\\site-packages (from lightgbm) (0.37.1)\n",
      "Requirement already satisfied: scipy in c:\\users\\user\\anaconda3\\lib\\site-packages (from lightgbm) (1.9.1)\n",
      "Requirement already satisfied: numpy in c:\\users\\user\\anaconda3\\lib\\site-packages (from lightgbm) (1.21.5)\n",
      "Requirement already satisfied: joblib>=0.11 in c:\\users\\user\\anaconda3\\lib\\site-packages (from scikit-learn!=0.22.0->lightgbm) (1.2.0)\n",
      "Requirement already satisfied: threadpoolctl>=2.0.0 in c:\\users\\user\\anaconda3\\lib\\site-packages (from scikit-learn!=0.22.0->lightgbm) (2.2.0)\n",
      "Installing collected packages: lightgbm\n",
      "Successfully installed lightgbm-3.3.5\n",
      "Note: you may need to restart the kernel to use updated packages.\n"
     ]
    }
   ],
   "source": [
    "pip install lightgbm"
   ]
  },
  {
   "cell_type": "code",
   "execution_count": null,
   "id": "1c82b36a",
   "metadata": {},
   "outputs": [],
   "source": []
  }
 ],
 "metadata": {
  "kernelspec": {
   "display_name": "Python 3 (ipykernel)",
   "language": "python",
   "name": "python3"
  },
  "language_info": {
   "codemirror_mode": {
    "name": "ipython",
    "version": 3
   },
   "file_extension": ".py",
   "mimetype": "text/x-python",
   "name": "python",
   "nbconvert_exporter": "python",
   "pygments_lexer": "ipython3",
   "version": "3.9.13"
  }
 },
 "nbformat": 4,
 "nbformat_minor": 5
}
